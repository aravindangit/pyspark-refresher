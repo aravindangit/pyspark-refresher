{
 "cells": [
  {
   "cell_type": "code",
   "execution_count": 0,
   "metadata": {
    "application/vnd.databricks.v1+cell": {
     "cellMetadata": {
      "byteLimit": 2048000,
      "rowLimit": 10000
     },
     "inputWidgets": {},
     "nuid": "70dc6a86-e7fc-4cca-8e40-30a2ec7e9852",
     "showTitle": false,
     "tableResultSettingsMap": {},
     "title": ""
    }
   },
   "outputs": [],
   "source": [
    "# Create a sample table\n",
    "spark.sql(\"\"\"\n",
    "CREATE TABLE IF NOT EXISTS sample_table (\n",
    "    id INT,\n",
    "    value STRING,\n",
    "    updated_at TIMESTAMP\n",
    ")\n",
    "\"\"\")\n"
   ]
  },
  {
   "cell_type": "code",
   "execution_count": 0,
   "metadata": {
    "application/vnd.databricks.v1+cell": {
     "cellMetadata": {
      "byteLimit": 2048000,
      "implicitDf": true,
      "rowLimit": 10000
     },
     "inputWidgets": {},
     "nuid": "863840be-8e00-424a-918a-abacfb2e9159",
     "showTitle": false,
     "tableResultSettingsMap": {},
     "title": ""
    }
   },
   "outputs": [],
   "source": [
    "%sql\n",
    "select * from sample_table"
   ]
  },
  {
   "cell_type": "code",
   "execution_count": 0,
   "metadata": {
    "application/vnd.databricks.v1+cell": {
     "cellMetadata": {
      "byteLimit": 2048000,
      "rowLimit": 10000
     },
     "inputWidgets": {},
     "nuid": "54ccf473-0b28-45bd-8db7-85167ac75ae5",
     "showTitle": false,
     "tableResultSettingsMap": {},
     "title": ""
    }
   },
   "outputs": [],
   "source": [
    "\n",
    "# Insert initial data\n",
    "spark.sql(\"\"\"\n",
    "INSERT INTO sample_table VALUES\n",
    "(1, 'A', '2025-06-16 10:00:00'),\n",
    "(2, 'B', '2025-06-16 11:00:00')\n",
    "\"\"\")\n",
    "\n"
   ]
  },
  {
   "cell_type": "code",
   "execution_count": 0,
   "metadata": {
    "application/vnd.databricks.v1+cell": {
     "cellMetadata": {
      "byteLimit": 2048000,
      "rowLimit": 10000
     },
     "inputWidgets": {},
     "nuid": "04c04c55-4e32-40cf-86e5-a9936d23b243",
     "showTitle": false,
     "tableResultSettingsMap": {},
     "title": ""
    }
   },
   "outputs": [],
   "source": [
    "# Create a materialized view\n",
    "spark.sql(\"\"\"\n",
    "CREATE OR REPLACE MATERIALIZED VIEW sample_materialized_view\n",
    "AS\n",
    "SELECT * FROM sample_table\n",
    "\"\"\")\n",
    "\n"
   ]
  },
  {
   "cell_type": "code",
   "execution_count": 0,
   "metadata": {
    "application/vnd.databricks.v1+cell": {
     "cellMetadata": {},
     "inputWidgets": {},
     "nuid": "00f24b0c-6881-4448-aab4-fdce262a1f63",
     "showTitle": false,
     "tableResultSettingsMap": {},
     "title": ""
    }
   },
   "outputs": [],
   "source": [
    "# Function to refresh the materialized view with incremental changes\n",
    "def refresh_materialized_view():\n",
    "    # Get the last refresh timestamp\n",
    "    last_refresh = spark.sql(\"SELECT MAX(updated_at) FROM sample_materialized_view\").collect()[0][0]\n",
    "    \n",
    "    # Insert only the new changes into the materialized view\n",
    "    spark.sql(f\"\"\"\n",
    "    INSERT INTO sample_materialized_view\n",
    "    SELECT * FROM sample_table\n",
    "    WHERE updated_at > '{last_refresh}'\n",
    "    \"\"\")\n",
    "\n"
   ]
  },
  {
   "cell_type": "code",
   "execution_count": 0,
   "metadata": {
    "application/vnd.databricks.v1+cell": {
     "cellMetadata": {},
     "inputWidgets": {},
     "nuid": "99a1a195-a2a5-4026-ad8b-448d2ea18201",
     "showTitle": false,
     "tableResultSettingsMap": {},
     "title": ""
    }
   },
   "outputs": [],
   "source": [
    "# Insert incremental data\n",
    "spark.sql(\"\"\"\n",
    "INSERT INTO sample_table VALUES\n",
    "(3, 'C', '2025-06-17 12:00:00')\n",
    "\"\"\")\n",
    "\n"
   ]
  },
  {
   "cell_type": "code",
   "execution_count": 0,
   "metadata": {
    "application/vnd.databricks.v1+cell": {
     "cellMetadata": {},
     "inputWidgets": {},
     "nuid": "fda86030-4ccb-4849-a1f7-04e05f402467",
     "showTitle": false,
     "tableResultSettingsMap": {},
     "title": ""
    }
   },
   "outputs": [],
   "source": [
    "# Refresh the materialized view to include only the new changes\n",
    "refresh_materialized_view()\n",
    "\n",
    "# Display the materialized view\n",
    "display(spark.sql(\"SELECT * FROM sample_materialized_view\"))"
   ]
  }
 ],
 "metadata": {
  "application/vnd.databricks.v1+notebook": {
   "computePreferences": null,
   "dashboards": [],
   "environmentMetadata": {
    "base_environment": "",
    "environment_version": "2"
   },
   "inputWidgetPreferences": null,
   "language": "python",
   "notebookMetadata": {
    "mostRecentlyExecutedCommandWithImplicitDF": {
     "commandId": 4811036266381728,
     "dataframes": [
      "_sqldf"
     ]
    },
    "pythonIndentUnit": 4
   },
   "notebookName": "materialized_view_demo",
   "widgets": {}
  },
  "language_info": {
   "name": "python"
  }
 },
 "nbformat": 4,
 "nbformat_minor": 0
}
